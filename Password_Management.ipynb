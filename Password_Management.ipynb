{
 "cells": [
  {
   "cell_type": "code",
   "execution_count": null,
   "id": "13a74976",
   "metadata": {},
   "outputs": [],
   "source": [
    "### Project Description: Encrypted Password Manager\n",
    "\n",
    "This Python project is a simple encrypted password manager that allows users to store and retrieve passwords securely. It uses the **Fernet** encryption method from the `cryptography` library to encrypt and decrypt passwords. The program stores the passwords in a text file after encryption, ensuring that sensitive data is kept secure.\n",
    "\n",
    "Key Management: The program generates and stores an encryption key in a file (`key.key`) to securely encrypt and decrypt passwords.\n",
    "Password Storage: Users can add account names and passwords. The passwords are encrypted before being saved to a file (`passwords.txt`).\n",
    "Password Retrieval: Users can view stored account details, and the program will decrypt the passwords for display.\n",
    "\n",
    "This tool is a basic password manager that emphasizes security through encryption while maintaining simplicity in functionality."
   ]
  },
  {
   "cell_type": "code",
   "execution_count": 1,
   "id": "e8528da6",
   "metadata": {},
   "outputs": [
    {
     "name": "stdout",
     "output_type": "stream",
     "text": [
      "Requirement already satisfied: cryptography in ./anaconda3/lib/python3.11/site-packages (41.0.2)\r\n",
      "Requirement already satisfied: cffi>=1.12 in ./anaconda3/lib/python3.11/site-packages (from cryptography) (1.15.1)\r\n",
      "Requirement already satisfied: pycparser in ./anaconda3/lib/python3.11/site-packages (from cffi>=1.12->cryptography) (2.21)\r\n"
     ]
    }
   ],
   "source": [
    "!pip install cryptography "
   ]
  },
  {
   "cell_type": "code",
   "execution_count": 10,
   "id": "7d6b9c5b",
   "metadata": {},
   "outputs": [
    {
     "name": "stdout",
     "output_type": "stream",
     "text": [
      "Would you like to add a new password or view existing ones (view, add), press q to quit? add\n",
      "Account Name: Facebook\n",
      "Password: FB@1234\n",
      "Would you like to add a new password or view existing ones (view, add), press q to quit? add\n",
      "Account Name: Amazon\n",
      "Password: Amz@1234\n",
      "Would you like to add a new password or view existing ones (view, add), press q to quit? view\n",
      "User: Facebook | Password: FB@1234\n",
      "User: Amazon | Password: Amz@1234\n",
      "Would you like to add a new password or view existing ones (view, add), press q to quit? q\n"
     ]
    }
   ],
   "source": [
    "from cryptography.fernet import Fernet\n",
    "\n",
    "\n",
    "'''\n",
    "def write_key():\n",
    "    key = Fernet.generate_key()\n",
    "    with open(\"key.key\", \"wb\") as key_file:\n",
    "        key_fileå.write(key)'''\n",
    "\n",
    "\n",
    "def load_key():\n",
    "    file = open(\"key.key\", \"rb\")\n",
    "    key = file.read()\n",
    "    file.close()\n",
    "    return key\n",
    "\n",
    "write_key()\n",
    "key = load_key()\n",
    "fer = Fernet(key)\n",
    "\n",
    "\n",
    "def view():\n",
    "    with open('passwords.txt', 'r') as f:\n",
    "        for line in f.readlines():\n",
    "            data = line.rstrip()\n",
    "            user, passw = data.split(\"|\")\n",
    "            print(\"User:\", user, \"| Password:\", fer.decrypt(passw.encode()).decode())\n",
    "\n",
    "\n",
    "def add():\n",
    "    name = input('Account Name: ')\n",
    "    pwd = input(\"Password: \")\n",
    "\n",
    "    with open('passwords.txt', 'a') as f:\n",
    "        f.write(name + \"|\" + fer.encrypt(pwd.encode()).decode() + \"\\n\")\n",
    "\n",
    "\n",
    "while True:\n",
    "    mode = input(\n",
    "        \"Would you like to add a new password or view existing ones (view, add), press q to quit? \").lower()\n",
    "    if mode == \"q\":\n",
    "        break\n",
    "\n",
    "    if mode == \"view\":\n",
    "        view()\n",
    "    elif mode == \"add\":\n",
    "        add()\n",
    "    else:\n",
    "        print(\"Invalid mode.\")\n",
    "        continue"
   ]
  },
  {
   "cell_type": "code",
   "execution_count": null,
   "id": "171b16c6",
   "metadata": {},
   "outputs": [],
   "source": []
  },
  {
   "cell_type": "code",
   "execution_count": null,
   "id": "5ea8f632",
   "metadata": {},
   "outputs": [],
   "source": []
  }
 ],
 "metadata": {
  "kernelspec": {
   "display_name": "Python 3 (ipykernel)",
   "language": "python",
   "name": "python3"
  },
  "language_info": {
   "codemirror_mode": {
    "name": "ipython",
    "version": 3
   },
   "file_extension": ".py",
   "mimetype": "text/x-python",
   "name": "python",
   "nbconvert_exporter": "python",
   "pygments_lexer": "ipython3",
   "version": "3.11.4"
  }
 },
 "nbformat": 4,
 "nbformat_minor": 5
}
