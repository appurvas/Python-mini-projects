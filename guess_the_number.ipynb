{
 "cells": [
  {
   "cell_type": "code",
   "execution_count": null,
   "id": "2b9c286b",
   "metadata": {},
   "outputs": [],
   "source": [
    "### Project Description: Guess the Number Game\n",
    "\n",
    "'''This project is a simple Python-based guessing game where the computer selects a random number within a user-defined range.\n",
    "The user is prompted to input a maximum range value, and the program generates a random number between 0 and that number. \n",
    "The user is then asked to guess the randomly generated number, and after each guess, the program provides feedback on whether the guess was too high or too low. \n",
    "The game continues until the correct number is guessed, and it tracks the number of attempts made.'''"
   ]
  },
  {
   "cell_type": "code",
   "execution_count": 1,
   "id": "87338bb6",
   "metadata": {},
   "outputs": [
    {
     "name": "stdout",
     "output_type": "stream",
     "text": [
      "Type a number: 7\n",
      "Make a guess: 4\n",
      "You were below the number!\n",
      "Make a guess: 6\n",
      "You got it!\n",
      "You got it in 2 guesses\n"
     ]
    }
   ],
   "source": [
    "import random\n",
    "\n",
    "top_of_range = input(\"Type a number: \")\n",
    "\n",
    "if top_of_range.isdigit():\n",
    "    top_of_range = int(top_of_range)\n",
    "\n",
    "    if top_of_range <= 0:\n",
    "        print('Please type a number larger than 0 next time.')\n",
    "        quit()\n",
    "else:\n",
    "    print('Please type a number next time.')\n",
    "    quit()\n",
    "\n",
    "random_number = random.randint(0, top_of_range)\n",
    "guesses = 0\n",
    "\n",
    "while True:\n",
    "    guesses += 1\n",
    "    user_guess = input(\"Make a guess: \")\n",
    "    if user_guess.isdigit():\n",
    "        user_guess = int(user_guess)\n",
    "    else:\n",
    "        print('Please type a number next time.')\n",
    "        continue\n",
    "\n",
    "    if user_guess == random_number:\n",
    "        print(\"You got it!\")\n",
    "        break\n",
    "    elif user_guess > random_number:\n",
    "        print(\"You were above the number!\")\n",
    "    else:\n",
    "        print(\"You were below the number!\")\n",
    "\n",
    "print(\"You got it in\", guesses, \"guesses\")"
   ]
  },
  {
   "cell_type": "code",
   "execution_count": null,
   "id": "d8ef48ca",
   "metadata": {},
   "outputs": [],
   "source": []
  },
  {
   "cell_type": "code",
   "execution_count": null,
   "id": "1f05ab8e",
   "metadata": {},
   "outputs": [],
   "source": []
  },
  {
   "cell_type": "code",
   "execution_count": null,
   "id": "af5627c8",
   "metadata": {},
   "outputs": [],
   "source": []
  }
 ],
 "metadata": {
  "kernelspec": {
   "display_name": "Python 3 (ipykernel)",
   "language": "python",
   "name": "python3"
  },
  "language_info": {
   "codemirror_mode": {
    "name": "ipython",
    "version": 3
   },
   "file_extension": ".py",
   "mimetype": "text/x-python",
   "name": "python",
   "nbconvert_exporter": "python",
   "pygments_lexer": "ipython3",
   "version": "3.11.4"
  }
 },
 "nbformat": 4,
 "nbformat_minor": 5
}
